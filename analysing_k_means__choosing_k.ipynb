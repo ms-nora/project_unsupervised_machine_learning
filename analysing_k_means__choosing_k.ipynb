{
  "cells": [
    {
      "cell_type": "markdown",
      "metadata": {
        "id": "8g5SPWMyiLtN"
      },
      "source": [
        "# Analyzing k-means and Finding the Right Number of Clusters\n",
        "\n",
        "When using k-means clustering, you need to decide how many groups (or clusters) your data should be divided into. This number is called k, and choosing it carefully is very important:\n",
        "\n",
        "If k is too small, you might combine things that don’t really belong together, missing important patterns.\n",
        "If k is too large, the groups will be so tiny that they lose meaning and don’t help us understand the data.\n",
        "To find the best k, we can use two common methods:\n",
        "\n",
        "The Inertia Elbow Method: This looks at how \"compact\" the clusters are as we try different k values, helping us find a point where adding more clusters doesn't improve much.\n",
        "\n",
        "The Silhouette Score: This measures how well each data point fits into its cluster. A higher score means better clusters."
      ]
    },
    {
      "cell_type": "markdown",
      "metadata": {
        "id": "xJrChU7o8eIU"
      },
      "source": [
        "---\n",
        "## 1.&nbsp; Import libraries and files 💾"
      ]
    },
    {
      "cell_type": "code",
      "execution_count": 2,
      "metadata": {
        "id": "d5szg7CJ8IK4"
      },
      "outputs": [],
      "source": [
        "import pandas as pd\n",
        "\n",
        "from sklearn.preprocessing import MinMaxScaler\n",
        "from sklearn.cluster import KMeans\n",
        "from sklearn.metrics import silhouette_score\n",
        "\n",
        "import seaborn as sns\n",
        "import plotly.graph_objects as go"
      ]
    },
    {
      "cell_type": "code",
      "execution_count": 5,
      "metadata": {
        "id": "779-V98w8slr",
        "colab": {
          "base_uri": "https://localhost:8080/"
        },
        "outputId": "22ff802f-25b8-473b-ce1e-f68056b0363a"
      },
      "outputs": [
        {
          "output_type": "stream",
          "name": "stdout",
          "text": [
            "                      Unnamed: 0  danceability  energy  key  loudness  mode  \\\n",
            "artist                                                                        \n",
            "Gilberto Gil                   0         658.0  259.00   11   -13.141     0   \n",
            "Antônio Carlos Jobim           1         742.0  399.00    2   -12.646     1   \n",
            "Martinho Da Vila               2         851.0    0.73    2   -11.048     1   \n",
            "Chico César                    3         705.0  502.00    4   -18.115     1   \n",
            "Kurt Elling                    4         651.0  119.00    6   -19.807     1   \n",
            "\n",
            "                      speechiness acousticness instrumentalness  liveness  \\\n",
            "artist                                                                      \n",
            "Gilberto Gil                705.0          694         5.87e-05     975.0   \n",
            "Antônio Carlos Jobim        346.0          217         1.88e-06     107.0   \n",
            "Martinho Da Vila            347.0          453         6.34e-05     124.0   \n",
            "Chico César                 471.0          879         4.05e-05     386.0   \n",
            "Kurt Elling                  38.0          916              343     104.0   \n",
            "\n",
            "                      valence    tempo  type  duration_ms  time_signature  \\\n",
            "artist                                                                      \n",
            "Gilberto Gil            306.0  110.376   NaN       256213               4   \n",
            "Antônio Carlos Jobim    693.0  125.039   NaN       191867               4   \n",
            "Martinho Da Vila        905.0   93.698   NaN       152267               4   \n",
            "Chico César             524.0  106.802   NaN       186227               4   \n",
            "Kurt Elling             402.0  120.941   NaN       273680               4   \n",
            "\n",
            "                                          id  \\\n",
            "artist                                         \n",
            "Gilberto Gil          1n7JnwviZ7zf0LR1tcGFq7   \n",
            "Antônio Carlos Jobim  5QGM1U0eCYrQuwSJwTm5Zq   \n",
            "Martinho Da Vila      0NLIFSZxPzQhCwnkn5PJYs   \n",
            "Chico César           3mXqOdlLE1k67WsAxryPFs   \n",
            "Kurt Elling           7bSzjzjTkWT2CkIPPdp0eA   \n",
            "\n",
            "                                                                   html  \n",
            "artist                                                                   \n",
            "Gilberto Gil          https://open.spotify.com/track/1n7JnwviZ7zf0LR...  \n",
            "Antônio Carlos Jobim  https://open.spotify.com/track/5QGM1U0eCYrQuwS...  \n",
            "Martinho Da Vila      https://open.spotify.com/track/0NLIFSZxPzQhCwn...  \n",
            "Chico César           https://open.spotify.com/track/3mXqOdlLE1k67Ws...  \n",
            "Kurt Elling           https://open.spotify.com/track/7bSzjzjTkWT2CkI...  \n"
          ]
        }
      ],
      "source": [
        "import pandas as pd\n",
        "from sklearn.preprocessing import MinMaxScaler\n",
        "\n",
        "# Get the spreadsheet ID and name\n",
        "sheet_id = \"1CSkJ7w90AilX_zkl-2fDXBFq9MAL5hSDzkXRpE70pKE\"\n",
        "sheet_name = \"2087670046\"\n",
        "\n",
        "# Construct the URL to the CSV export of the spreadsheet\n",
        "url = f\"https://docs.google.com/spreadsheets/d/{sheet_id}/export?format=csv&gid={sheet_name}\"\n",
        "\n",
        "# Read the CSV data into a Pandas DataFrame\n",
        "# Set the index column to `artist` and drop the `name` column\n",
        "songs_df = pd.read_csv(url, index_col=\"artist\").drop(columns=\"name\")\n",
        "\n",
        "# Display the first few rows to confirm the data is loaded correctly\n",
        "print(songs_df.head())\n",
        "\n"
      ]
    },
    {
      "cell_type": "markdown",
      "metadata": {
        "id": "LOeo-RpZ87tE"
      },
      "source": [
        "---\n",
        "## 2.&nbsp; Scale the data 📐\n",
        "In this notebook, we are only using the MinMaxScaler to keep the code simple and focus on the inertia and silhouette scores. However, we encourage you to experiment with other scalers, as they can have a impact."
      ]
    },
    {
      "cell_type": "code",
      "execution_count": 6,
      "metadata": {
        "id": "z_sR6bNp8s3E",
        "colab": {
          "base_uri": "https://localhost:8080/"
        },
        "outputId": "680909b7-564f-4a4d-c2ef-73927d6a0abc"
      },
      "outputs": [
        {
          "output_type": "stream",
          "name": "stdout",
          "text": [
            "                      Unnamed: 0  danceability    energy       key  loudness  \\\n",
            "artist                                                                         \n",
            "Gilberto Gil            0.000000      0.661972  0.259259  1.000000  0.529571   \n",
            "Antônio Carlos Jobim    0.000191      0.746479  0.399399  0.181818  0.529861   \n",
            "Martinho Da Vila        0.000382      0.856137  0.000731  0.181818  0.530800   \n",
            "Chico César             0.000573      0.709256  0.502503  0.363636  0.526650   \n",
            "Kurt Elling             0.000764      0.654930  0.119119  0.545455  0.525656   \n",
            "\n",
            "                      mode  speechiness  liveness   valence     tempo  type  \\\n",
            "artist                                                                        \n",
            "Gilberto Gil           0.0     0.705706  0.975976  0.306613  0.515800   0.0   \n",
            "Antônio Carlos Jobim   1.0     0.346346  0.107107  0.694389  0.584322   0.0   \n",
            "Martinho Da Vila       1.0     0.347347  0.124124  0.906814  0.437862   0.0   \n",
            "Chico César            1.0     0.471471  0.386386  0.525050  0.499098   0.0   \n",
            "Kurt Elling            1.0     0.038038  0.104104  0.402806  0.565171   0.0   \n",
            "\n",
            "                      duration_ms  time_signature  \n",
            "artist                                             \n",
            "Gilberto Gil             0.059067             0.8  \n",
            "Antônio Carlos Jobim     0.042058             0.8  \n",
            "Martinho Da Vila         0.031590             0.8  \n",
            "Chico César              0.040567             0.8  \n",
            "Kurt Elling              0.063684             0.8  \n"
          ]
        }
      ],
      "source": [
        "\n",
        "# Handle NaNs and scale the features\n",
        "songs_numeric_df = songs_df.select_dtypes(include=['float64', 'int64']).fillna(0)  # Filter numeric data and fill NaNs\n",
        "scaler = MinMaxScaler().set_output(transform=\"pandas\")\n",
        "scaled_features_df = scaler.fit_transform(songs_numeric_df)\n",
        "\n",
        "# Display the scaled DataFrame\n",
        "print(scaled_features_df.head())"
      ]
    },
    {
      "cell_type": "markdown",
      "metadata": {
        "id": "VN2TT0OCuZPW"
      },
      "source": [
        "---\n",
        "## 3.&nbsp; Estimate the number of clusters (k) 🔢"
      ]
    },
    {
      "cell_type": "markdown",
      "metadata": {
        "id": "gRyU51AqflMB"
      },
      "source": [
        "### 3.1.&nbsp; Inertia and the elbow method\n",
        "\n",
        "In clustering, inertia is a measure of how well data points fit into their assigned clusters. Lower inertia indicates a better fit. However, minimising inertia alone can lead to meaningless clusters, with each data point in its own cluster.\n",
        "\n",
        "The elbow method is a visual aid for identifying the optimal number of clusters. It plots inertia values for different cluster numbers, revealing an \"elbow\" where the inertia reduction begins to plateau. This plateau indicates that reducing inertia further has little impact on cluster quality."
      ]
    },
    {
      "cell_type": "markdown",
      "metadata": {
        "id": "aw_CtLgKol_n"
      },
      "source": [
        "To find the inertia score for our clusters, we can use the [KMeans attribute ](https://scikit-learn.org/stable/modules/generated/sklearn.cluster.KMeans.html)`.inertia_`.\n",
        "\n",
        "We will cluster our food preferences data multiple times, starting with 1 cluster and increasing the number of clusters by 1 each time until we reach `max_k`. We will store the inertia score for each clustering in a list.\n",
        "\n",
        "Once we've calculated the inertia scores for all values of k, we'll plot them on a line chart. We'll then look for the \"elbow\" in the line chart. The elbow is the point where the inertia score starts to plateau, indicating that adding more clusters is not significantly improving the quality of the clustering."
      ]
    },
    {
      "cell_type": "code",
      "execution_count": 7,
      "metadata": {
        "id": "VRNfWJXT7BdM",
        "outputId": "52a1a80e-4de1-45cb-f3a1-4de8538313bc",
        "colab": {
          "base_uri": "https://localhost:8080/"
        }
      },
      "outputs": [
        {
          "output_type": "stream",
          "name": "stdout",
          "text": [
            "Inertia Scores: [4368.262971398673, 3155.5014646249597, 2832.9669449161624, 2660.8312986728447, 2514.5141002301602, 2368.337762287182, 2260.2703407426893, 2160.8164220996405, 2109.5292193463806, 2030.3897488459459, 1957.5149975134163, 1903.2800568921018]\n"
          ]
        }
      ],
      "source": [
        "from sklearn.cluster import KMeans\n",
        "\n",
        "# Decide on a random_state to use for reproducibility\n",
        "seed = 123\n",
        "\n",
        "# Set the maximum number of clusters to try\n",
        "max_k = 12\n",
        "\n",
        "# Create an empty list to store the inertia scores\n",
        "inertia_list = []\n",
        "\n",
        "# Iterate over the range of cluster numbers\n",
        "for k in range(1, max_k + 1):\n",
        "    # Create a KMeans object with k clusters\n",
        "    kmeans = KMeans(n_clusters=k, n_init=\"auto\", random_state=seed)\n",
        "\n",
        "    # Fit the KMeans model to the scaled data\n",
        "    kmeans.fit(scaled_features_df)\n",
        "\n",
        "    # Append the inertia score (sum of squared distances) to the list\n",
        "    inertia_list.append(kmeans.inertia_)\n",
        "\n",
        "# Display the inertia scores\n",
        "print(\"Inertia Scores:\", inertia_list)\n"
      ]
    },
    {
      "cell_type": "markdown",
      "source": [],
      "metadata": {
        "id": "LFygE75mfB91"
      }
    },
    {
      "cell_type": "markdown",
      "source": [
        "#Visualize the Elbow Method"
      ],
      "metadata": {
        "id": "1dy_oTYlfG9R"
      }
    },
    {
      "cell_type": "code",
      "execution_count": 8,
      "metadata": {
        "colab": {
          "base_uri": "https://localhost:8080/",
          "height": 487
        },
        "id": "mXtq4WkxwlzV",
        "outputId": "9cf4dd13-c87b-44c0-af3d-13a0ba5a8e28"
      },
      "outputs": [
        {
          "output_type": "display_data",
          "data": {
            "text/plain": [
              "<Figure size 800x500 with 1 Axes>"
            ],
            "image/png": "[encoded data removed]"
          },
          "metadata": {}
        }
      ],
      "source": [
        "import matplotlib.pyplot as plt\n",
        "\n",
        "# Plot the inertia scores\n",
        "plt.figure(figsize=(8, 5))\n",
        "plt.plot(range(1, max_k + 1), inertia_list, marker='o')\n",
        "plt.xlabel('Number of Clusters (k)')\n",
        "plt.ylabel('Inertia')\n",
        "plt.title('Elbow Method for Optimal k')\n",
        "plt.grid()\n",
        "plt.show()\n"
      ]
    },
    {
      "cell_type": "markdown",
      "metadata": {
        "id": "kGIXe8ls4yoQ"
      },
      "source": [
        "Where the elbow lies is not always clear - it's up to you to decide, you're the data scientist. If there are multiple points where you believe the elbow could be, use your knowledge of the business case to inform your decision. How many data points do you have? How many would be in a cluster if you chose this number of clusters? What is the point of making these clusters? Is there a logical number of clusters, where if you make more clusters they just become too small for your business case?\n",
        "> The elbow method is a heuristic, meaning that it is not guaranteed to find the optimal number of clusters in all cases."
      ]
    },
    {
      "cell_type": "markdown",
      "metadata": {
        "id": "U9HokpG4zZit"
      },
      "source": [
        "### 3.2.&nbsp; The silhouette score\n",
        "The silhouette score is another metric for evaluating the quality of clustering results. It measures how well each data point is assigned to its cluster, taking into account the distance to other clusters. The silhouette score ranges from -1 to 1, with higher scores indicating better clustering.\n",
        "\n",
        "The silhouette score can be used to identify the optimal number of clusters by clustering the data with different numbers of clusters and selecting the number of clusters that has the highest the silhouette score.\n",
        "\n",
        "To calculate the silhouette score we'll use the [SKLearn function ](https://scikit-learn.org/stable/modules/generated/sklearn.metrics.silhouette_score.html)`silhouette_score`."
      ]
    },
    {
      "cell_type": "code",
      "execution_count": 10,
      "metadata": {
        "id": "Bfh1wB4B0GdL",
        "outputId": "1fee1569-a8dc-4a6f-9791-31b9a8762115",
        "colab": {
          "base_uri": "https://localhost:8080/"
        }
      },
      "outputs": [
        {
          "output_type": "stream",
          "name": "stdout",
          "text": [
            "Silhouette Scores: [0.2795574665528773, 0.19124895141976012, 0.17418533830497215, 0.13695689403826308, 0.13748950867040494, 0.13985174979840795, 0.14004638787542995, 0.13603730166421107, 0.13597587457626711, 0.13344434641164307]\n"
          ]
        }
      ],
      "source": [
        "from sklearn.cluster import KMeans\n",
        "from sklearn.metrics import silhouette_score\n",
        "\n",
        "# Set the maximum number of clusters to try\n",
        "max_k = 12\n",
        "\n",
        "# Create an empty list to store the silhouette scores\n",
        "sil_scores = []\n",
        "\n",
        "# Loop through cluster numbers from 2 to max_k (silhouette requires at least 2 clusters)\n",
        "for k in range(2, max_k):\n",
        "    # Create a KMeans object with the specified number of clusters\n",
        "    kmeans = KMeans(n_clusters=k, n_init=\"auto\", random_state=seed)\n",
        "\n",
        "    # Fit the KMeans model to the scaled data\n",
        "    kmeans.fit(scaled_features_df)\n",
        "\n",
        "    # Get the cluster labels\n",
        "    labels = kmeans.labels_\n",
        "\n",
        "    # Calculate the silhouette score for the current clustering\n",
        "    score = silhouette_score(scaled_features_df, labels)\n",
        "\n",
        "    # Append the silhouette score to the list\n",
        "    sil_scores.append(score)\n",
        "\n",
        "# Display the silhouette scores\n",
        "print(\"Silhouette Scores:\", sil_scores)\n"
      ]
    },
    {
      "cell_type": "markdown",
      "source": [],
      "metadata": {
        "id": "qXQ0BdFOfoMa"
      }
    },
    {
      "cell_type": "markdown",
      "source": [
        "# Visualize Silhouette Scores"
      ],
      "metadata": {
        "id": "5CVfEp-ofsBP"
      }
    },
    {
      "cell_type": "code",
      "execution_count": 11,
      "metadata": {
        "colab": {
          "base_uri": "https://localhost:8080/",
          "height": 496
        },
        "id": "xY-mvnQP2xkb",
        "outputId": "9aaeb4f2-574d-49b3-bddf-d5c8cb177d8b"
      },
      "outputs": [
        {
          "output_type": "display_data",
          "data": {
            "text/plain": [
              "<Figure size 800x500 with 1 Axes>"
            ],
            "image/png": "[encoded data removed]"
          },
          "metadata": {}
        }
      ],
      "source": [
        "import matplotlib.pyplot as plt\n",
        "\n",
        "# Plot the silhouette scores\n",
        "plt.figure(figsize=(8, 5))\n",
        "plt.plot(range(2, max_k), sil_scores, marker='o')\n",
        "plt.xlabel(\"Number of Clusters (k)\")\n",
        "plt.ylabel(\"Silhouette Score\")\n",
        "plt.title(\"Silhouette Scores for K-Means Clustering\")\n",
        "plt.grid()\n",
        "plt.show()\n"
      ]
    },
    {
      "cell_type": "markdown",
      "metadata": {
        "id": "XxqqembhYJ3W"
      },
      "source": [
        "To determine the optimal number of clusters, we can look for the highest silhouette score. This score measures how well each point is assigned to its cluster, with higher scores indicating better clustering.\n",
        "\n",
        "However, the highest silhouette score may not always be the best choice. For example, if the score is very high for a large number of clusters, it may be a sign that the clusters are too finely grained and that we are overfitting the data.\n",
        "\n",
        "In addition, we should consider our business objectives and the data we are using. For example, if we are clustering customers based on their purchase history, we may want to choose a smaller number of clusters so that we can easily identify different customer segments.\n",
        "\n",
        "Therefore, it's important to use the silhouette score in conjunction with other methods, such as the elbow method, and to consider our business objectives and the data we are using when choosing the optimal number of clusters.\n",
        "> You can also experiment with different values for random_state. It's possible that you got a \"bad seed\" and this is leading to misleading results. Make sure to use the same random_state for both the inertia and silhouette methods so that you are comparing the same clusters."
      ]
    },
    {
      "cell_type": "markdown",
      "metadata": {
        "id": "QIOS7LQQd4DP"
      },
      "source": [
        "---\n",
        "## 4.&nbsp; Explore the cluster means 🗺️"
      ]
    },
    {
      "cell_type": "markdown",
      "metadata": {
        "id": "oZnHMrWFeitU"
      },
      "source": [
        "#### 4.1.&nbsp; Column averages\n",
        "By grouping the clusters and looking at the average score for each column, you can learn more about the different groups of students and their food preferences. For example, you might find that one group of students prefers healthy foods like broccoli and peas, while another group prefers more processed foods like hamburgers. You might also find that some groups of students have a more diverse range of food preferences than others."
      ]
    },
    {
      "cell_type": "code",
      "execution_count": 12,
      "metadata": {
        "colab": {
          "base_uri": "https://localhost:8080/"
        },
        "id": "zmGm223ie2Yn",
        "outputId": "4cdd5648-f4ea-44cc-8ded-813b54725628"
      },
      "outputs": [
        {
          "output_type": "stream",
          "name": "stdout",
          "text": [
            "                      Unnamed: 0  danceability    energy       key  loudness  \\\n",
            "artist                                                                         \n",
            "Gilberto Gil            0.000000      0.661972  0.259259  1.000000  0.529571   \n",
            "Antônio Carlos Jobim    0.000191      0.746479  0.399399  0.181818  0.529861   \n",
            "Martinho Da Vila        0.000382      0.856137  0.000731  0.181818  0.530800   \n",
            "Chico César             0.000573      0.709256  0.502503  0.363636  0.526650   \n",
            "Kurt Elling             0.000764      0.654930  0.119119  0.545455  0.525656   \n",
            "\n",
            "                      mode  speechiness  liveness   valence     tempo  type  \\\n",
            "artist                                                                        \n",
            "Gilberto Gil           0.0     0.705706  0.975976  0.306613  0.515800   0.0   \n",
            "Antônio Carlos Jobim   1.0     0.346346  0.107107  0.694389  0.584322   0.0   \n",
            "Martinho Da Vila       1.0     0.347347  0.124124  0.906814  0.437862   0.0   \n",
            "Chico César            1.0     0.471471  0.386386  0.525050  0.499098   0.0   \n",
            "Kurt Elling            1.0     0.038038  0.104104  0.402806  0.565171   0.0   \n",
            "\n",
            "                      duration_ms  time_signature  cluster  \n",
            "artist                                                      \n",
            "Gilberto Gil             0.059067             0.8        4  \n",
            "Antônio Carlos Jobim     0.042058             0.8        1  \n",
            "Martinho Da Vila         0.031590             0.8        1  \n",
            "Chico César              0.040567             0.8        1  \n",
            "Kurt Elling              0.063684             0.8        0  \n"
          ]
        }
      ],
      "source": [
        "from sklearn.cluster import KMeans\n",
        "\n",
        "# Initialise the model\n",
        "my_kmeans = KMeans(n_clusters=5,  # Number of clusters\n",
        "                   random_state=123)\n",
        "\n",
        "# Fit the model to the data\n",
        "my_kmeans.fit(scaled_features_df)\n",
        "\n",
        "# Obtain the cluster output\n",
        "clusters = my_kmeans.labels_\n",
        "\n",
        "# Attach the cluster output to the scaled DataFrame\n",
        "scaled_features_df[\"cluster\"] = clusters\n",
        "\n",
        "# Display the first few rows with the cluster labels\n",
        "print(scaled_features_df.head())\n"
      ]
    },
    {
      "cell_type": "code",
      "execution_count": 13,
      "metadata": {
        "colab": {
          "base_uri": "https://localhost:8080/",
          "height": 237
        },
        "id": "VD-mwfpgFM6w",
        "outputId": "5510865e-e026-49df-9c63-273fc2626726"
      },
      "outputs": [
        {
          "output_type": "execute_result",
          "data": {
            "text/plain": [
              "         Unnamed: 0  danceability    energy       key  loudness  mode  \\\n",
              "cluster                                                                 \n",
              "0          0.347039      0.520813  0.471104  0.732005  0.531315   1.0   \n",
              "1          0.321681      0.562541  0.555275  0.143051  0.531339   1.0   \n",
              "2          0.693105      0.397853  0.803680  0.578045  0.532249   0.0   \n",
              "3          0.769089      0.301754  0.813427  0.440093  0.531645   1.0   \n",
              "4          0.351046      0.573902  0.458942  0.515629  0.530691   0.0   \n",
              "\n",
              "         speechiness  liveness   valence     tempo  type  duration_ms  \\\n",
              "cluster                                                                 \n",
              "0           0.380064  0.364111  0.522221  0.550774   0.0     0.052061   \n",
              "1           0.391093  0.361711  0.566207  0.555731   0.0     0.050626   \n",
              "2           0.418174  0.349714  0.345799  0.569436   0.0     0.060841   \n",
              "3           0.398956  0.346078  0.324259  0.558908   0.0     0.066103   \n",
              "4           0.375552  0.378741  0.550333  0.539266   0.0     0.053925   \n",
              "\n",
              "         time_signature  \n",
              "cluster                  \n",
              "0              0.780639  \n",
              "1              0.787151  \n",
              "2              0.780244  \n",
              "3              0.772488  \n",
              "4              0.783807  "
            ],
            "text/html": [
              "\n",
              "  <div id=\"df-9e0ffa2a-837c-4c40-9ece-899bdde59a1b\" class=\"colab-df-container\">\n",
              "    <div>\n",
              "<style scoped>\n",
              "    .dataframe tbody tr th:only-of-type {\n",
              "        vertical-align: middle;\n",
              "    }\n",
              "\n",
              "    .dataframe tbody tr th {\n",
              "        vertical-align: top;\n",
              "    }\n",
              "\n",
              "    .dataframe thead th {\n",
              "        text-align: right;\n",
              "    }\n",
              "</style>\n",
              "<table border=\"1\" class=\"dataframe\">\n",
              "  <thead>\n",
              "    <tr style=\"text-align: right;\">\n",
              "      <th></th>\n",
              "      <th>Unnamed: 0</th>\n",
              "      <th>danceability</th>\n",
              "      <th>energy</th>\n",
              "      <th>key</th>\n",
              "      <th>loudness</th>\n",
              "      <th>mode</th>\n",
              "      <th>speechiness</th>\n",
              "      <th>liveness</th>\n",
              "      <th>valence</th>\n",
              "      <th>tempo</th>\n",
              "      <th>type</th>\n",
              "      <th>duration_ms</th>\n",
              "      <th>time_signature</th>\n",
              "    </tr>\n",
              "    <tr>\n",
              "      <th>cluster</th>\n",
              "      <th></th>\n",
              "      <th></th>\n",
              "      <th></th>\n",
              "      <th></th>\n",
              "      <th></th>\n",
              "      <th></th>\n",
              "      <th></th>\n",
              "      <th></th>\n",
              "      <th></th>\n",
              "      <th></th>\n",
              "      <th></th>\n",
              "      <th></th>\n",
              "      <th></th>\n",
              "    </tr>\n",
              "  </thead>\n",
              "  <tbody>\n",
              "    <tr>\n",
              "      <th>0</th>\n",
              "      <td>0.347039</td>\n",
              "      <td>0.520813</td>\n",
              "      <td>0.471104</td>\n",
              "      <td>0.732005</td>\n",
              "      <td>0.531315</td>\n",
              "      <td>1.0</td>\n",
              "      <td>0.380064</td>\n",
              "      <td>0.364111</td>\n",
              "      <td>0.522221</td>\n",
              "      <td>0.550774</td>\n",
              "      <td>0.0</td>\n",
              "      <td>0.052061</td>\n",
              "      <td>0.780639</td>\n",
              "    </tr>\n",
              "    <tr>\n",
              "      <th>1</th>\n",
              "      <td>0.321681</td>\n",
              "      <td>0.562541</td>\n",
              "      <td>0.555275</td>\n",
              "      <td>0.143051</td>\n",
              "      <td>0.531339</td>\n",
              "      <td>1.0</td>\n",
              "      <td>0.391093</td>\n",
              "      <td>0.361711</td>\n",
              "      <td>0.566207</td>\n",
              "      <td>0.555731</td>\n",
              "      <td>0.0</td>\n",
              "      <td>0.050626</td>\n",
              "      <td>0.787151</td>\n",
              "    </tr>\n",
              "    <tr>\n",
              "      <th>2</th>\n",
              "      <td>0.693105</td>\n",
              "      <td>0.397853</td>\n",
              "      <td>0.803680</td>\n",
              "      <td>0.578045</td>\n",
              "      <td>0.532249</td>\n",
              "      <td>0.0</td>\n",
              "      <td>0.418174</td>\n",
              "      <td>0.349714</td>\n",
              "      <td>0.345799</td>\n",
              "      <td>0.569436</td>\n",
              "      <td>0.0</td>\n",
              "      <td>0.060841</td>\n",
              "      <td>0.780244</td>\n",
              "    </tr>\n",
              "    <tr>\n",
              "      <th>3</th>\n",
              "      <td>0.769089</td>\n",
              "      <td>0.301754</td>\n",
              "      <td>0.813427</td>\n",
              "      <td>0.440093</td>\n",
              "      <td>0.531645</td>\n",
              "      <td>1.0</td>\n",
              "      <td>0.398956</td>\n",
              "      <td>0.346078</td>\n",
              "      <td>0.324259</td>\n",
              "      <td>0.558908</td>\n",
              "      <td>0.0</td>\n",
              "      <td>0.066103</td>\n",
              "      <td>0.772488</td>\n",
              "    </tr>\n",
              "    <tr>\n",
              "      <th>4</th>\n",
              "      <td>0.351046</td>\n",
              "      <td>0.573902</td>\n",
              "      <td>0.458942</td>\n",
              "      <td>0.515629</td>\n",
              "      <td>0.530691</td>\n",
              "      <td>0.0</td>\n",
              "      <td>0.375552</td>\n",
              "      <td>0.378741</td>\n",
              "      <td>0.550333</td>\n",
              "      <td>0.539266</td>\n",
              "      <td>0.0</td>\n",
              "      <td>0.053925</td>\n",
              "      <td>0.783807</td>\n",
              "    </tr>\n",
              "  </tbody>\n",
              "</table>\n",
              "</div>\n",
              "    <div class=\"colab-df-buttons\">\n",
              "\n",
              "  <div class=\"colab-df-container\">\n",
              "    <button class=\"colab-df-convert\" onclick=\"convertToInteractive('df-9e0ffa2a-837c-4c40-9ece-899bdde59a1b')\"\n",
              "            title=\"Convert this dataframe to an interactive table.\"\n",
              "            style=\"display:none;\">\n",
              "\n",
              "  <svg xmlns=\"http://www.w3.org/2000/svg\" height=\"24px\" viewBox=\"0 -960 960 960\">\n",
              "    <path d=\"M120-120v-720h720v720H120Zm60-500h600v-160H180v160Zm220 220h160v-160H400v160Zm0 220h160v-160H400v160ZM180-400h160v-160H180v160Zm440 0h160v-160H620v160ZM180-180h160v-160H180v160Zm440 0h160v-160H620v160Z\"/>\n",
              "  </svg>\n",
              "    </button>\n",
              "\n",
              "  <style>\n",
              "    .colab-df-container {\n",
              "      display:flex;\n",
              "      gap: 12px;\n",
              "    }\n",
              "\n",
              "    .colab-df-convert {\n",
              "      background-color: #E8F0FE;\n",
              "      border: none;\n",
              "      border-radius: 50%;\n",
              "      cursor: pointer;\n",
              "      display: none;\n",
              "      fill: #1967D2;\n",
              "      height: 32px;\n",
              "      padding: 0 0 0 0;\n",
              "      width: 32px;\n",
              "    }\n",
              "\n",
              "    .colab-df-convert:hover {\n",
              "      background-color: #E2EBFA;\n",
              "      box-shadow: 0px 1px 2px rgba(60, 64, 67, 0.3), 0px 1px 3px 1px rgba(60, 64, 67, 0.15);\n",
              "      fill: #174EA6;\n",
              "    }\n",
              "\n",
              "    .colab-df-buttons div {\n",
              "      margin-bottom: 4px;\n",
              "    }\n",
              "\n",
              "    [theme=dark] .colab-df-convert {\n",
              "      background-color: #3B4455;\n",
              "      fill: #D2E3FC;\n",
              "    }\n",
              "\n",
              "    [theme=dark] .colab-df-convert:hover {\n",
              "      background-color: #434B5C;\n",
              "      box-shadow: 0px 1px 3px 1px rgba(0, 0, 0, 0.15);\n",
              "      filter: drop-shadow(0px 1px 2px rgba(0, 0, 0, 0.3));\n",
              "      fill: #FFFFFF;\n",
              "    }\n",
              "  </style>\n",
              "\n",
              "    <script>\n",
              "      const buttonEl =\n",
              "        document.querySelector('#df-9e0ffa2a-837c-4c40-9ece-899bdde59a1b button.colab-df-convert');\n",
              "      buttonEl.style.display =\n",
              "        google.colab.kernel.accessAllowed ? 'block' : 'none';\n",
              "\n",
              "      async function convertToInteractive(key) {\n",
              "        const element = document.querySelector('#df-9e0ffa2a-837c-4c40-9ece-899bdde59a1b');\n",
              "        const dataTable =\n",
              "          await google.colab.kernel.invokeFunction('convertToInteractive',\n",
              "                                                    [key], {});\n",
              "        if (!dataTable) return;\n",
              "\n",
              "        const docLinkHtml = 'Like what you see? Visit the ' +\n",
              "          '<a target=\"_blank\" href=https://colab.research.google.com/notebooks/data_table.ipynb>data table notebook</a>'\n",
              "          + ' to learn more about interactive tables.';\n",
              "        element.innerHTML = '';\n",
              "        dataTable['output_type'] = 'display_data';\n",
              "        await google.colab.output.renderOutput(dataTable, element);\n",
              "        const docLink = document.createElement('div');\n",
              "        docLink.innerHTML = docLinkHtml;\n",
              "        element.appendChild(docLink);\n",
              "      }\n",
              "    </script>\n",
              "  </div>\n",
              "\n",
              "\n",
              "<div id=\"df-02be0875-f2ca-455f-aa43-2bf040635056\">\n",
              "  <button class=\"colab-df-quickchart\" onclick=\"quickchart('df-02be0875-f2ca-455f-aa43-2bf040635056')\"\n",
              "            title=\"Suggest charts\"\n",
              "            style=\"display:none;\">\n",
              "\n",
              "<svg xmlns=\"http://www.w3.org/2000/svg\" height=\"24px\"viewBox=\"0 0 24 24\"\n",
              "     width=\"24px\">\n",
              "    <g>\n",
              "        <path d=\"M19 3H5c-1.1 0-2 .9-2 2v14c0 1.1.9 2 2 2h14c1.1 0 2-.9 2-2V5c0-1.1-.9-2-2-2zM9 17H7v-7h2v7zm4 0h-2V7h2v10zm4 0h-2v-4h2v4z\"/>\n",
              "    </g>\n",
              "</svg>\n",
              "  </button>\n",
              "\n",
              "<style>\n",
              "  .colab-df-quickchart {\n",
              "      --bg-color: #E8F0FE;\n",
              "      --fill-color: #1967D2;\n",
              "      --hover-bg-color: #E2EBFA;\n",
              "      --hover-fill-color: #174EA6;\n",
              "      --disabled-fill-color: #AAA;\n",
              "      --disabled-bg-color: #DDD;\n",
              "  }\n",
              "\n",
              "  [theme=dark] .colab-df-quickchart {\n",
              "      --bg-color: #3B4455;\n",
              "      --fill-color: #D2E3FC;\n",
              "      --hover-bg-color: #434B5C;\n",
              "      --hover-fill-color: #FFFFFF;\n",
              "      --disabled-bg-color: #3B4455;\n",
              "      --disabled-fill-color: #666;\n",
              "  }\n",
              "\n",
              "  .colab-df-quickchart {\n",
              "    background-color: var(--bg-color);\n",
              "    border: none;\n",
              "    border-radius: 50%;\n",
              "    cursor: pointer;\n",
              "    display: none;\n",
              "    fill: var(--fill-color);\n",
              "    height: 32px;\n",
              "    padding: 0;\n",
              "    width: 32px;\n",
              "  }\n",
              "\n",
              "  .colab-df-quickchart:hover {\n",
              "    background-color: var(--hover-bg-color);\n",
              "    box-shadow: 0 1px 2px rgba(60, 64, 67, 0.3), 0 1px 3px 1px rgba(60, 64, 67, 0.15);\n",
              "    fill: var(--button-hover-fill-color);\n",
              "  }\n",
              "\n",
              "  .colab-df-quickchart-complete:disabled,\n",
              "  .colab-df-quickchart-complete:disabled:hover {\n",
              "    background-color: var(--disabled-bg-color);\n",
              "    fill: var(--disabled-fill-color);\n",
              "    box-shadow: none;\n",
              "  }\n",
              "\n",
              "  .colab-df-spinner {\n",
              "    border: 2px solid var(--fill-color);\n",
              "    border-color: transparent;\n",
              "    border-bottom-color: var(--fill-color);\n",
              "    animation:\n",
              "      spin 1s steps(1) infinite;\n",
              "  }\n",
              "\n",
              "  @keyframes spin {\n",
              "    0% {\n",
              "      border-color: transparent;\n",
              "      border-bottom-color: var(--fill-color);\n",
              "      border-left-color: var(--fill-color);\n",
              "    }\n",
              "    20% {\n",
              "      border-color: transparent;\n",
              "      border-left-color: var(--fill-color);\n",
              "      border-top-color: var(--fill-color);\n",
              "    }\n",
              "    30% {\n",
              "      border-color: transparent;\n",
              "      border-left-color: var(--fill-color);\n",
              "      border-top-color: var(--fill-color);\n",
              "      border-right-color: var(--fill-color);\n",
              "    }\n",
              "    40% {\n",
              "      border-color: transparent;\n",
              "      border-right-color: var(--fill-color);\n",
              "      border-top-color: var(--fill-color);\n",
              "    }\n",
              "    60% {\n",
              "      border-color: transparent;\n",
              "      border-right-color: var(--fill-color);\n",
              "    }\n",
              "    80% {\n",
              "      border-color: transparent;\n",
              "      border-right-color: var(--fill-color);\n",
              "      border-bottom-color: var(--fill-color);\n",
              "    }\n",
              "    90% {\n",
              "      border-color: transparent;\n",
              "      border-bottom-color: var(--fill-color);\n",
              "    }\n",
              "  }\n",
              "</style>\n",
              "\n",
              "  <script>\n",
              "    async function quickchart(key) {\n",
              "      const quickchartButtonEl =\n",
              "        document.querySelector('#' + key + ' button');\n",
              "      quickchartButtonEl.disabled = true;  // To prevent multiple clicks.\n",
              "      quickchartButtonEl.classList.add('colab-df-spinner');\n",
              "      try {\n",
              "        const charts = await google.colab.kernel.invokeFunction(\n",
              "            'suggestCharts', [key], {});\n",
              "      } catch (error) {\n",
              "        console.error('Error during call to suggestCharts:', error);\n",
              "      }\n",
              "      quickchartButtonEl.classList.remove('colab-df-spinner');\n",
              "      quickchartButtonEl.classList.add('colab-df-quickchart-complete');\n",
              "    }\n",
              "    (() => {\n",
              "      let quickchartButtonEl =\n",
              "        document.querySelector('#df-02be0875-f2ca-455f-aa43-2bf040635056 button');\n",
              "      quickchartButtonEl.style.display =\n",
              "        google.colab.kernel.accessAllowed ? 'block' : 'none';\n",
              "    })();\n",
              "  </script>\n",
              "</div>\n",
              "\n",
              "    </div>\n",
              "  </div>\n"
            ],
            "application/vnd.google.colaboratory.intrinsic+json": {
              "type": "dataframe",
              "summary": "{\n  \"name\": \"scaled_features_df\",\n  \"rows\": 5,\n  \"fields\": [\n    {\n      \"column\": \"cluster\",\n      \"properties\": {\n        \"dtype\": \"int32\",\n        \"num_unique_values\": 5,\n        \"samples\": [\n          1,\n          4,\n          2\n        ],\n        \"semantic_type\": \"\",\n        \"description\": \"\"\n      }\n    },\n    {\n      \"column\": \"Unnamed: 0\",\n      \"properties\": {\n        \"dtype\": \"number\",\n        \"std\": 0.21622635482364636,\n        \"min\": 0.32168125755605986,\n        \"max\": 0.7690894789423356,\n        \"num_unique_values\": 5,\n        \"samples\": [\n          0.32168125755605986,\n          0.35104612042830846,\n          0.6931045494815975\n        ],\n        \"semantic_type\": \"\",\n        \"description\": \"\"\n      }\n    },\n    {\n      \"column\": \"danceability\",\n      \"properties\": {\n        \"dtype\": \"number\",\n        \"std\": 0.11773276301015592,\n        \"min\": 0.30175372664322014,\n        \"max\": 0.5739020770257719,\n        \"num_unique_values\": 5,\n        \"samples\": [\n          0.5625412812067939,\n          0.5739020770257719,\n          0.39785333532828493\n        ],\n        \"semantic_type\": \"\",\n        \"description\": \"\"\n      }\n    },\n    {\n      \"column\": \"energy\",\n      \"properties\": {\n        \"dtype\": \"number\",\n        \"std\": 0.1756774783994953,\n        \"min\": 0.4589418440522542,\n        \"max\": 0.813426672141664,\n        \"num_unique_values\": 5,\n        \"samples\": [\n          0.5552745296506935,\n          0.4589418440522542,\n          0.8036802840576425\n        ],\n        \"semantic_type\": \"\",\n        \"description\": \"\"\n      }\n    },\n    {\n      \"column\": \"key\",\n      \"properties\": {\n        \"dtype\": \"number\",\n        \"std\": 0.21765834024538977,\n        \"min\": 0.1430506179109531,\n        \"max\": 0.7320049813200499,\n        \"num_unique_values\": 5,\n        \"samples\": [\n          0.1430506179109531,\n          0.5156294809291655,\n          0.5780445969125215\n        ],\n        \"semantic_type\": \"\",\n        \"description\": \"\"\n      }\n    },\n    {\n      \"column\": \"loudness\",\n      \"properties\": {\n        \"dtype\": \"number\",\n        \"std\": 0.000566361158256086,\n        \"min\": 0.5306913191479377,\n        \"max\": 0.5322492461237367,\n        \"num_unique_values\": 5,\n        \"samples\": [\n          0.5313388614243022,\n          0.5306913191479377,\n          0.5322492461237367\n        ],\n        \"semantic_type\": \"\",\n        \"description\": \"\"\n      }\n    },\n    {\n      \"column\": \"mode\",\n      \"properties\": {\n        \"dtype\": \"number\",\n        \"std\": 0.5477225575051662,\n        \"min\": 0.0,\n        \"max\": 1.0,\n        \"num_unique_values\": 2,\n        \"samples\": [\n          0.0,\n          1.0\n        ],\n        \"semantic_type\": \"\",\n        \"description\": \"\"\n      }\n    },\n    {\n      \"column\": \"speechiness\",\n      \"properties\": {\n        \"dtype\": \"number\",\n        \"std\": 0.016914250724066195,\n        \"min\": 0.3755521136278234,\n        \"max\": 0.4181743785961322,\n        \"num_unique_values\": 5,\n        \"samples\": [\n          0.3910933745663727,\n          0.3755521136278234\n        ],\n        \"semantic_type\": \"\",\n        \"description\": \"\"\n      }\n    },\n    {\n      \"column\": \"liveness\",\n      \"properties\": {\n        \"dtype\": \"number\",\n        \"std\": 0.012948632522840632,\n        \"min\": 0.34607792306309604,\n        \"max\": 0.378741285975776,\n        \"num_unique_values\": 5,\n        \"samples\": [\n          0.36171132957911356,\n          0.378741285975776\n        ],\n        \"semantic_type\": \"\",\n        \"description\": \"\"\n      }\n    },\n    {\n      \"column\": \"valence\",\n      \"properties\": {\n        \"dtype\": \"number\",\n        \"std\": 0.11700777266310432,\n        \"min\": 0.32425929288560645,\n        \"max\": 0.5662072002477954,\n        \"num_unique_values\": 5,\n        \"samples\": [\n          0.5662072002477954,\n          0.5503331268214662\n        ],\n        \"semantic_type\": \"\",\n        \"description\": \"\"\n      }\n    },\n    {\n      \"column\": \"tempo\",\n      \"properties\": {\n        \"dtype\": \"number\",\n        \"std\": 0.011061855787046687,\n        \"min\": 0.5392662933382945,\n        \"max\": 0.5694360970636704,\n        \"num_unique_values\": 5,\n        \"samples\": [\n          0.5557310889151175,\n          0.5392662933382945\n        ],\n        \"semantic_type\": \"\",\n        \"description\": \"\"\n      }\n    },\n    {\n      \"column\": \"type\",\n      \"properties\": {\n        \"dtype\": \"number\",\n        \"std\": 0.0,\n        \"min\": 0.0,\n        \"max\": 0.0,\n        \"num_unique_values\": 1,\n        \"samples\": [\n          0.0\n        ],\n        \"semantic_type\": \"\",\n        \"description\": \"\"\n      }\n    },\n    {\n      \"column\": \"duration_ms\",\n      \"properties\": {\n        \"dtype\": \"number\",\n        \"std\": 0.006551205377857276,\n        \"min\": 0.05062636925079031,\n        \"max\": 0.06610276535919539,\n        \"num_unique_values\": 5,\n        \"samples\": [\n          0.05062636925079031\n        ],\n        \"semantic_type\": \"\",\n        \"description\": \"\"\n      }\n    },\n    {\n      \"column\": \"time_signature\",\n      \"properties\": {\n        \"dtype\": \"number\",\n        \"std\": 0.005449329427646654,\n        \"min\": 0.7724876441515651,\n        \"max\": 0.7871508379888269,\n        \"num_unique_values\": 5,\n        \"samples\": [\n          0.7871508379888269\n        ],\n        \"semantic_type\": \"\",\n        \"description\": \"\"\n      }\n    }\n  ]\n}"
            }
          },
          "metadata": {},
          "execution_count": 13
        }
      ],
      "source": [
        "scaled_features_df.groupby(by=\"cluster\").mean()"
      ]
    },
    {
      "cell_type": "markdown",
      "metadata": {
        "id": "de1aGl8We6cb"
      },
      "source": [
        "#### 4.2.&nbsp; Radar chart\n",
        "Having calculated the average score for each food by cluster, we now have a matrix that we can analyse. However, as data scientists with coding skills, we can visualise this information to gain a clearer understanding of why certain people are clustered together and why others aren't.\n",
        "\n",
        "Visualising the data can help us to identify patterns and trends that would be difficult to see in a matrix. For example, we might be able to see that certain foods are consistently grouped together, while others are more spread out. This could suggest that there are different subgroups of students with different dietary preferences.\n",
        "\n",
        "We can also use visualisation to identify outliers. For example, we might find a few students who have very different food preferences than the rest of the group. This could be due to a variety of factors, such as cultural background, medical conditions, or personal preferences."
      ]
    },
    {
      "cell_type": "code",
      "execution_count": 14,
      "metadata": {
        "colab": {
          "base_uri": "https://localhost:8080/",
          "height": 617
        },
        "id": "_SF_GqPaesBd",
        "outputId": "07642f64-0f07-4305-8be2-b99182e6b218"
      },
      "outputs": [
        {
          "output_type": "display_data",
          "data": {
            "text/html": [
              "<html>\n",
              "<head><meta charset=\"utf-8\" /></head>\n",
              "<body>\n",
              "    <div>            <script src=\"https://cdnjs.cloudflare.com/ajax/libs/mathjax/2.7.5/MathJax.js?config=TeX-AMS-MML_SVG\"></script><script type=\"text/javascript\">if (window.MathJax && window.MathJax.Hub && window.MathJax.Hub.Config) {window.MathJax.Hub.Config({SVG: {font: \"STIX-Web\"}});}</script>                <script type=\"text/javascript\">window.PlotlyConfig = {MathJaxConfig: 'local'};</script>\n",
              "        <script charset=\"utf-8\" src=\"https://cdn.plot.ly/plotly-2.35.2.min.js\"></script>                <div id=\"eb4970bc-5075-4519-ac44-7cfc60f3983b\" class=\"plotly-graph-div\" style=\"height:600px; width:800px;\"></div>            <script type=\"text/javascript\">                                    window.PLOTLYENV=window.PLOTLYENV || {};                                    if (document.getElementById(\"eb4970bc-5075-4519-ac44-7cfc60f3983b\")) {                    Plotly.newPlot(                        \"eb4970bc-5075-4519-ac44-7cfc60f3983b\",                        [{\"fill\":\"toself\",\"name\":\"Cluster 0\",\"r\":[0.3470389427749366,0.520812941576399,0.4711039167206476,0.7320049813200499,0.5313151006684417,1.0,0.3800635064288032,0.3641108322934807,0.5222212644467016,0.5507744419414469,0.0,0.052061239312487795,0.7806392694063926],\"theta\":[\"Unnamed: 0\",\"danceability\",\"energy\",\"key\",\"loudness\",\"mode\",\"speechiness\",\"liveness\",\"valence\",\"tempo\",\"type\",\"duration_ms\",\"time_signature\"],\"type\":\"scatterpolar\"},{\"fill\":\"toself\",\"name\":\"Cluster 1\",\"r\":[0.32168125755605986,0.5625412812067939,0.5552745296506935,0.1430506179109531,0.5313388614243022,1.0,0.3910933745663727,0.36171132957911356,0.5662072002477954,0.5557310889151175,0.0,0.05062636925079031,0.7871508379888269],\"theta\":[\"Unnamed: 0\",\"danceability\",\"energy\",\"key\",\"loudness\",\"mode\",\"speechiness\",\"liveness\",\"valence\",\"tempo\",\"type\",\"duration_ms\",\"time_signature\"],\"type\":\"scatterpolar\"},{\"fill\":\"toself\",\"name\":\"Cluster 2\",\"r\":[0.6931045494815976,0.39785333532828493,0.8036802840576427,0.5780445969125214,0.5322492461237367,0.0,0.4181743785961322,0.34971379814887027,0.3457994457283045,0.5694360970636703,0.0,0.06084142561680343,0.7802441731409545],\"theta\":[\"Unnamed: 0\",\"danceability\",\"energy\",\"key\",\"loudness\",\"mode\",\"speechiness\",\"liveness\",\"valence\",\"tempo\",\"type\",\"duration_ms\",\"time_signature\"],\"type\":\"scatterpolar\"},{\"fill\":\"toself\",\"name\":\"Cluster 3\",\"r\":[0.7690894789423357,0.30175372664322014,0.813426672141664,0.4400928560730867,0.5316452945233773,1.0,0.3989557432226295,0.346077923063096,0.32425929288560645,0.5589082708987387,0.0,0.06610276535919538,0.772487644151565],\"theta\":[\"Unnamed: 0\",\"danceability\",\"energy\",\"key\",\"loudness\",\"mode\",\"speechiness\",\"liveness\",\"valence\",\"tempo\",\"type\",\"duration_ms\",\"time_signature\"],\"type\":\"scatterpolar\"},{\"fill\":\"toself\",\"name\":\"Cluster 4\",\"r\":[0.3510461204283084,0.5739020770257719,0.4589418440522541,0.5156294809291655,0.5306913191479378,0.0,0.3755521136278234,0.378741285975776,0.5503331268214662,0.5392662933382945,0.0,0.05392451658637432,0.7838065194532072],\"theta\":[\"Unnamed: 0\",\"danceability\",\"energy\",\"key\",\"loudness\",\"mode\",\"speechiness\",\"liveness\",\"valence\",\"tempo\",\"type\",\"duration_ms\",\"time_signature\"],\"type\":\"scatterpolar\"}],                        {\"template\":{\"data\":{\"histogram2dcontour\":[{\"type\":\"histogram2dcontour\",\"colorbar\":{\"outlinewidth\":0,\"ticks\":\"\"},\"colorscale\":[[0.0,\"#0d0887\"],[0.1111111111111111,\"#46039f\"],[0.2222222222222222,\"#7201a8\"],[0.3333333333333333,\"#9c179e\"],[0.4444444444444444,\"#bd3786\"],[0.5555555555555556,\"#d8576b\"],[0.6666666666666666,\"#ed7953\"],[0.7777777777777778,\"#fb9f3a\"],[0.8888888888888888,\"#fdca26\"],[1.0,\"#f0f921\"]]}],\"choropleth\":[{\"type\":\"choropleth\",\"colorbar\":{\"outlinewidth\":0,\"ticks\":\"\"}}],\"histogram2d\":[{\"type\":\"histogram2d\",\"colorbar\":{\"outlinewidth\":0,\"ticks\":\"\"},\"colorscale\":[[0.0,\"#0d0887\"],[0.1111111111111111,\"#46039f\"],[0.2222222222222222,\"#7201a8\"],[0.3333333333333333,\"#9c179e\"],[0.4444444444444444,\"#bd3786\"],[0.5555555555555556,\"#d8576b\"],[0.6666666666666666,\"#ed7953\"],[0.7777777777777778,\"#fb9f3a\"],[0.8888888888888888,\"#fdca26\"],[1.0,\"#f0f921\"]]}],\"heatmap\":[{\"type\":\"heatmap\",\"colorbar\":{\"outlinewidth\":0,\"ticks\":\"\"},\"colorscale\":[[0.0,\"#0d0887\"],[0.1111111111111111,\"#46039f\"],[0.2222222222222222,\"#7201a8\"],[0.3333333333333333,\"#9c179e\"],[0.4444444444444444,\"#bd3786\"],[0.5555555555555556,\"#d8576b\"],[0.6666666666666666,\"#ed7953\"],[0.7777777777777778,\"#fb9f3a\"],[0.8888888888888888,\"#fdca26\"],[1.0,\"#f0f921\"]]}],\"heatmapgl\":[{\"type\":\"heatmapgl\",\"colorbar\":{\"outlinewidth\":0,\"ticks\":\"\"},\"colorscale\":[[0.0,\"#0d0887\"],[0.1111111111111111,\"#46039f\"],[0.2222222222222222,\"#7201a8\"],[0.3333333333333333,\"#9c179e\"],[0.4444444444444444,\"#bd3786\"],[0.5555555555555556,\"#d8576b\"],[0.6666666666666666,\"#ed7953\"],[0.7777777777777778,\"#fb9f3a\"],[0.8888888888888888,\"#fdca26\"],[1.0,\"#f0f921\"]]}],\"contourcarpet\":[{\"type\":\"contourcarpet\",\"colorbar\":{\"outlinewidth\":0,\"ticks\":\"\"}}],\"contour\":[{\"type\":\"contour\",\"colorbar\":{\"outlinewidth\":0,\"ticks\":\"\"},\"colorscale\":[[0.0,\"#0d0887\"],[0.1111111111111111,\"#46039f\"],[0.2222222222222222,\"#7201a8\"],[0.3333333333333333,\"#9c179e\"],[0.4444444444444444,\"#bd3786\"],[0.5555555555555556,\"#d8576b\"],[0.6666666666666666,\"#ed7953\"],[0.7777777777777778,\"#fb9f3a\"],[0.8888888888888888,\"#fdca26\"],[1.0,\"#f0f921\"]]}],\"surface\":[{\"type\":\"surface\",\"colorbar\":{\"outlinewidth\":0,\"ticks\":\"\"},\"colorscale\":[[0.0,\"#0d0887\"],[0.1111111111111111,\"#46039f\"],[0.2222222222222222,\"#7201a8\"],[0.3333333333333333,\"#9c179e\"],[0.4444444444444444,\"#bd3786\"],[0.5555555555555556,\"#d8576b\"],[0.6666666666666666,\"#ed7953\"],[0.7777777777777778,\"#fb9f3a\"],[0.8888888888888888,\"#fdca26\"],[1.0,\"#f0f921\"]]}],\"mesh3d\":[{\"type\":\"mesh3d\",\"colorbar\":{\"outlinewidth\":0,\"ticks\":\"\"}}],\"scatter\":[{\"fillpattern\":{\"fillmode\":\"overlay\",\"size\":10,\"solidity\":0.2},\"type\":\"scatter\"}],\"parcoords\":[{\"type\":\"parcoords\",\"line\":{\"colorbar\":{\"outlinewidth\":0,\"ticks\":\"\"}}}],\"scatterpolargl\":[{\"type\":\"scatterpolargl\",\"marker\":{\"colorbar\":{\"outlinewidth\":0,\"ticks\":\"\"}}}],\"bar\":[{\"error_x\":{\"color\":\"#2a3f5f\"},\"error_y\":{\"color\":\"#2a3f5f\"},\"marker\":{\"line\":{\"color\":\"#E5ECF6\",\"width\":0.5},\"pattern\":{\"fillmode\":\"overlay\",\"size\":10,\"solidity\":0.2}},\"type\":\"bar\"}],\"scattergeo\":[{\"type\":\"scattergeo\",\"marker\":{\"colorbar\":{\"outlinewidth\":0,\"ticks\":\"\"}}}],\"scatterpolar\":[{\"type\":\"scatterpolar\",\"marker\":{\"colorbar\":{\"outlinewidth\":0,\"ticks\":\"\"}}}],\"histogram\":[{\"marker\":{\"pattern\":{\"fillmode\":\"overlay\",\"size\":10,\"solidity\":0.2}},\"type\":\"histogram\"}],\"scattergl\":[{\"type\":\"scattergl\",\"marker\":{\"colorbar\":{\"outlinewidth\":0,\"ticks\":\"\"}}}],\"scatter3d\":[{\"type\":\"scatter3d\",\"line\":{\"colorbar\":{\"outlinewidth\":0,\"ticks\":\"\"}},\"marker\":{\"colorbar\":{\"outlinewidth\":0,\"ticks\":\"\"}}}],\"scattermapbox\":[{\"type\":\"scattermapbox\",\"marker\":{\"colorbar\":{\"outlinewidth\":0,\"ticks\":\"\"}}}],\"scatterternary\":[{\"type\":\"scatterternary\",\"marker\":{\"colorbar\":{\"outlinewidth\":0,\"ticks\":\"\"}}}],\"scattercarpet\":[{\"type\":\"scattercarpet\",\"marker\":{\"colorbar\":{\"outlinewidth\":0,\"ticks\":\"\"}}}],\"carpet\":[{\"aaxis\":{\"endlinecolor\":\"#2a3f5f\",\"gridcolor\":\"white\",\"linecolor\":\"white\",\"minorgridcolor\":\"white\",\"startlinecolor\":\"#2a3f5f\"},\"baxis\":{\"endlinecolor\":\"#2a3f5f\",\"gridcolor\":\"white\",\"linecolor\":\"white\",\"minorgridcolor\":\"white\",\"startlinecolor\":\"#2a3f5f\"},\"type\":\"carpet\"}],\"table\":[{\"cells\":{\"fill\":{\"color\":\"#EBF0F8\"},\"line\":{\"color\":\"white\"}},\"header\":{\"fill\":{\"color\":\"#C8D4E3\"},\"line\":{\"color\":\"white\"}},\"type\":\"table\"}],\"barpolar\":[{\"marker\":{\"line\":{\"color\":\"#E5ECF6\",\"width\":0.5},\"pattern\":{\"fillmode\":\"overlay\",\"size\":10,\"solidity\":0.2}},\"type\":\"barpolar\"}],\"pie\":[{\"automargin\":true,\"type\":\"pie\"}]},\"layout\":{\"autotypenumbers\":\"strict\",\"colorway\":[\"#636efa\",\"#EF553B\",\"#00cc96\",\"#ab63fa\",\"#FFA15A\",\"#19d3f3\",\"#FF6692\",\"#B6E880\",\"#FF97FF\",\"#FECB52\"],\"font\":{\"color\":\"#2a3f5f\"},\"hovermode\":\"closest\",\"hoverlabel\":{\"align\":\"left\"},\"paper_bgcolor\":\"white\",\"plot_bgcolor\":\"#E5ECF6\",\"polar\":{\"bgcolor\":\"#E5ECF6\",\"angularaxis\":{\"gridcolor\":\"white\",\"linecolor\":\"white\",\"ticks\":\"\"},\"radialaxis\":{\"gridcolor\":\"white\",\"linecolor\":\"white\",\"ticks\":\"\"}},\"ternary\":{\"bgcolor\":\"#E5ECF6\",\"aaxis\":{\"gridcolor\":\"white\",\"linecolor\":\"white\",\"ticks\":\"\"},\"baxis\":{\"gridcolor\":\"white\",\"linecolor\":\"white\",\"ticks\":\"\"},\"caxis\":{\"gridcolor\":\"white\",\"linecolor\":\"white\",\"ticks\":\"\"}},\"coloraxis\":{\"colorbar\":{\"outlinewidth\":0,\"ticks\":\"\"}},\"colorscale\":{\"sequential\":[[0.0,\"#0d0887\"],[0.1111111111111111,\"#46039f\"],[0.2222222222222222,\"#7201a8\"],[0.3333333333333333,\"#9c179e\"],[0.4444444444444444,\"#bd3786\"],[0.5555555555555556,\"#d8576b\"],[0.6666666666666666,\"#ed7953\"],[0.7777777777777778,\"#fb9f3a\"],[0.8888888888888888,\"#fdca26\"],[1.0,\"#f0f921\"]],\"sequentialminus\":[[0.0,\"#0d0887\"],[0.1111111111111111,\"#46039f\"],[0.2222222222222222,\"#7201a8\"],[0.3333333333333333,\"#9c179e\"],[0.4444444444444444,\"#bd3786\"],[0.5555555555555556,\"#d8576b\"],[0.6666666666666666,\"#ed7953\"],[0.7777777777777778,\"#fb9f3a\"],[0.8888888888888888,\"#fdca26\"],[1.0,\"#f0f921\"]],\"diverging\":[[0,\"#8e0152\"],[0.1,\"#c51b7d\"],[0.2,\"#de77ae\"],[0.3,\"#f1b6da\"],[0.4,\"#fde0ef\"],[0.5,\"#f7f7f7\"],[0.6,\"#e6f5d0\"],[0.7,\"#b8e186\"],[0.8,\"#7fbc41\"],[0.9,\"#4d9221\"],[1,\"#276419\"]]},\"xaxis\":{\"gridcolor\":\"white\",\"linecolor\":\"white\",\"ticks\":\"\",\"title\":{\"standoff\":15},\"zerolinecolor\":\"white\",\"automargin\":true,\"zerolinewidth\":2},\"yaxis\":{\"gridcolor\":\"white\",\"linecolor\":\"white\",\"ticks\":\"\",\"title\":{\"standoff\":15},\"zerolinecolor\":\"white\",\"automargin\":true,\"zerolinewidth\":2},\"scene\":{\"xaxis\":{\"backgroundcolor\":\"#E5ECF6\",\"gridcolor\":\"white\",\"linecolor\":\"white\",\"showbackground\":true,\"ticks\":\"\",\"zerolinecolor\":\"white\",\"gridwidth\":2},\"yaxis\":{\"backgroundcolor\":\"#E5ECF6\",\"gridcolor\":\"white\",\"linecolor\":\"white\",\"showbackground\":true,\"ticks\":\"\",\"zerolinecolor\":\"white\",\"gridwidth\":2},\"zaxis\":{\"backgroundcolor\":\"#E5ECF6\",\"gridcolor\":\"white\",\"linecolor\":\"white\",\"showbackground\":true,\"ticks\":\"\",\"zerolinecolor\":\"white\",\"gridwidth\":2}},\"shapedefaults\":{\"line\":{\"color\":\"#2a3f5f\"}},\"annotationdefaults\":{\"arrowcolor\":\"#2a3f5f\",\"arrowhead\":0,\"arrowwidth\":1},\"geo\":{\"bgcolor\":\"white\",\"landcolor\":\"#E5ECF6\",\"subunitcolor\":\"white\",\"showland\":true,\"showlakes\":true,\"lakecolor\":\"white\"},\"title\":{\"x\":0.05},\"mapbox\":{\"style\":\"light\"}}},\"title\":{\"text\":\"Radar Chart of Mean Features by Cluster\"},\"polar\":{\"radialaxis\":{\"visible\":true,\"range\":[0,1]}},\"height\":600,\"width\":800,\"showlegend\":true},                        {\"responsive\": true}                    ).then(function(){\n",
              "                            \n",
              "var gd = document.getElementById('eb4970bc-5075-4519-ac44-7cfc60f3983b');\n",
              "var x = new MutationObserver(function (mutations, observer) {{\n",
              "        var display = window.getComputedStyle(gd).display;\n",
              "        if (!display || display === 'none') {{\n",
              "            console.log([gd, 'removed!']);\n",
              "            Plotly.purge(gd);\n",
              "            observer.disconnect();\n",
              "        }}\n",
              "}});\n",
              "\n",
              "// Listen for the removal of the full notebook cells\n",
              "var notebookContainer = gd.closest('#notebook-container');\n",
              "if (notebookContainer) {{\n",
              "    x.observe(notebookContainer, {childList: true});\n",
              "}}\n",
              "\n",
              "// Listen for the clearing of the current output cell\n",
              "var outputEl = gd.closest('.output');\n",
              "if (outputEl) {{\n",
              "    x.observe(outputEl, {childList: true});\n",
              "}}\n",
              "\n",
              "                        })                };                            </script>        </div>\n",
              "</body>\n",
              "</html>"
            ]
          },
          "metadata": {}
        }
      ],
      "source": [
        "import plotly.graph_objects as go\n",
        "\n",
        "# Create an empty list to store the Scatterpolar object of each cluster\n",
        "scatter_objects = []\n",
        "\n",
        "# State the label for each arm of the chart\n",
        "categories = scaled_features_df.columns[:-1]  # Exclude 'cluster' column\n",
        "\n",
        "# Iterate over the unique clusters and add an object for each cluster to the list\n",
        "for cluster in sorted(scaled_features_df['cluster'].unique()):\n",
        "    # Calculate mean values for all features in the current cluster using list comprehension\n",
        "    cluster_means = [scaled_features_df.loc[scaled_features_df[\"cluster\"] == cluster, col].mean() for col in categories]\n",
        "\n",
        "    # Create a Scatterpolar object for the cluster\n",
        "    cluster_scatter = go.Scatterpolar(\n",
        "        r=cluster_means,  # set the radial coordinates\n",
        "        theta=categories,  # the names of the columns\n",
        "        fill='toself',  # fills in the space with colour\n",
        "        name=f'Cluster {cluster}'  # adds the name of the cluster\n",
        "    )\n",
        "\n",
        "    # Add the Scatterpolar object to the list\n",
        "    scatter_objects.append(cluster_scatter)\n",
        "\n",
        "# Create the figure (the white area)\n",
        "fig = go.Figure()\n",
        "\n",
        "# Add the scatter objects to the figure\n",
        "fig.add_traces(scatter_objects)\n",
        "\n",
        "# Add extras to the plot, such as title\n",
        "fig.update_layout(\n",
        "    title_text='Radar Chart of Mean Features by Cluster',\n",
        "    height=600,\n",
        "    width=800,\n",
        "    polar=dict(\n",
        "        radialaxis=dict(\n",
        "            visible=True,  # visibility of the numbers on the arm\n",
        "            range=[0, 1]  # scale of the plot\n",
        "        )\n",
        "    ),\n",
        "    showlegend=True\n",
        ")\n",
        "\n",
        "# Show the plot\n",
        "fig.show()\n"
      ]
    }
  ],
  "metadata": {
    "colab": {
      "provenance": []
    },
    "kernelspec": {
      "display_name": "Python 3",
      "name": "python3"
    },
    "language_info": {
      "codemirror_mode": {
        "name": "ipython",
        "version": 3
      },
      "file_extension": ".py",
      "mimetype": "text/x-python",
      "name": "python",
      "nbconvert_exporter": "python",
      "pygments_lexer": "ipython3",
      "version": "3.11.7"
    }
  },
  "nbformat": 4,
  "nbformat_minor": 0
}